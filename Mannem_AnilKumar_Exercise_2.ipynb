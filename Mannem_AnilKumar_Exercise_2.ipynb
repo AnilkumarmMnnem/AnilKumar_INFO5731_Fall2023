{
  "cells": [
    {
      "cell_type": "markdown",
      "metadata": {
        "id": "view-in-github",
        "colab_type": "text"
      },
      "source": [
        "<a href=\"https://colab.research.google.com/github/AnilkumarmMnnem/AnilKumar_INFO5731_Fall2023/blob/main/Mannem_AnilKumar_Exercise_2.ipynb\" target=\"_parent\"><img src=\"https://colab.research.google.com/assets/colab-badge.svg\" alt=\"Open In Colab\"/></a>"
      ]
    },
    {
      "cell_type": "markdown",
      "metadata": {
        "id": "fW5_oFVd9-pY"
      },
      "source": [
        "## The second In-class-exercise (09/13/2023, 40 points in total)"
      ]
    },
    {
      "cell_type": "markdown",
      "source": [
        "Kindly use the provided .ipynb document to write your code or respond to the questions. Avoid generating a new file.\n",
        "Execute all the cells before your final submission."
      ],
      "metadata": {
        "id": "mAzh1U0sE5I5"
      }
    },
    {
      "cell_type": "markdown",
      "source": [
        "This in-class exercise is due tomorrow September 14, 2023 at 11:59 PM. No late submissions will be considered."
      ],
      "metadata": {
        "id": "PpgvZQdRE-HV"
      }
    },
    {
      "cell_type": "markdown",
      "metadata": {
        "id": "9QBZI-je9-pZ"
      },
      "source": [
        "The purpose of this exercise is to understand users' information needs, then collect data from different sources for analysis."
      ]
    },
    {
      "cell_type": "markdown",
      "metadata": {
        "id": "AWoKpYQT9-pa"
      },
      "source": [
        "Question 1 (10 points): Describe an interesting research question (or practical question or something innovative) you have in mind, what kind of data should be collected to answer the question(s)? How many data needed for the analysis? The detail steps for collecting and save the data."
      ]
    },
    {
      "cell_type": "code",
      "execution_count": null,
      "metadata": {
        "id": "-LmNR3kw9-pa"
      },
      "outputs": [],
      "source": [
        "# Your answer here (no code for this question, write down your answer as detail as possible for the above questions):\n",
        "\n",
        "'''\n",
        "Please write you answer here:\n",
        "\n",
        "What have been the primary factors and trends in gold price variations over the last ten years, and how can economic analysis and investment strategies benefit from this knowledge?\n",
        "\n",
        "You would need to gather a variety of sorts of data, including the following, to answer this research question:\n",
        "\n",
        "Data on Gold Prices: Access historical gold price information for the last ten years. You can get this information via financial websites, governmental organizations, or companies that supply financial data. Daily or monthly gold price information should be included in this report.\n",
        "\n",
        "Macroeconomic Indicators: Compile information on macroeconomic variables, such as inflation, interest rates, currency exchange rates, and economic growth indicators, that affect gold prices. Government agencies, central banks, and financial databases are good places to find these.\n",
        "\n",
        "Geopolitical Events: List significant geopolitical occurrences that may have impacted gold prices, such as wars abroad, trade disputes, and political unrest. Geopolitical databases and news archives are also good resources.\n",
        "\n",
        "\n",
        "Steps for Data Collection:\n",
        "\n",
        "Data Sources: Find trustworthy sources for each category of data you want. Starting points include trustworthy financial news websites, government organizations, central banks, and financial databases like Bloomberg or Yahoo Finance.\n",
        "\n",
        "To guarantee accuracy and consistency, clean and preprocess the data. Take care of outliers, fill in any missing numbers, and prepare the data for analysis.\n",
        "\n",
        "Data Storage: To store the gathered data, develop an organized database or dataset. To analyze data, think about employing software tools like Microsoft Excel, CSV files, or specialist platforms.\n",
        "\n",
        "Data analysis: Conduct statistical and economic tests to find trends and causes of changes in the price of gold. Data visualization, regression modeling, and time series analysis may all be used in this.\n",
        "\n",
        "Visualization: To effectively display your findings, use visualizations (such as scatter plots and bar charts).\n",
        "\n",
        "\n",
        "Report and Interpretation: Write a report or give a presentation outlining your results. Explain the findings and offer your thoughts on the connections you've found.\n",
        "\n",
        "\n",
        "\n",
        "'''"
      ]
    },
    {
      "cell_type": "markdown",
      "metadata": {
        "id": "MlxTLRNm9-pa"
      },
      "source": [
        "Question 2 (10 points): Write python code to collect 1000 data samples you discussed above."
      ]
    },
    {
      "cell_type": "code",
      "source": [
        "pwd()\n"
      ],
      "metadata": {
        "id": "1vxrjxoOjxtp"
      },
      "execution_count": null,
      "outputs": []
    },
    {
      "cell_type": "markdown",
      "metadata": {
        "id": "px6wgvog9-pa"
      },
      "source": [
        "Question 3 (10 points): Write python code to collect 1000 articles from Google Scholar (https://scholar.google.com/), Microsoft Academic (https://academic.microsoft.com/home), or CiteSeerX (https://citeseerx.ist.psu.edu/index), or Semantic Scholar (https://www.semanticscholar.org/), or ACM Digital Libraries (https://dl.acm.org/) with the keyword \"information retrieval\". The articles should be published in the last 10 years (2013-2023).\n",
        "\n",
        "The following information of the article needs to be collected:\n",
        "\n",
        "(1) Title\n",
        "\n",
        "(2) Venue/journal/conference being published\n",
        "\n",
        "(3) Year\n",
        "\n",
        "(4) Authors\n",
        "\n",
        "(5) Abstract"
      ]
    },
    {
      "cell_type": "code",
      "execution_count": null,
      "metadata": {
        "id": "P5rjlclf9-pb"
      },
      "outputs": [],
      "source": [
        "\n",
        "import requests\n",
        "\n",
        "from bs4 import BeautifulSoup\n",
        "\n",
        "\n",
        "\n",
        "def scrape_google_scholar(query, num_articles=1000):\n",
        "\n",
        "    base_url = \"https://scholar.google.com/scholar\"\n",
        "\n",
        "    params = {\n",
        "\n",
        "        \"q\": query,\n",
        "\n",
        "        \"as_ylo\": 2013,\n",
        "\n",
        "        \"as_yhi\": 2023,\n",
        "\n",
        "        \"hl\": \"en\",\n",
        "\n",
        "        \"as_sdt\": \"0,5\",\n",
        "\n",
        "    }\n",
        "\n",
        "\n",
        "\n",
        "    articles = []\n",
        "\n",
        "\n",
        "\n",
        "    while len(articles) < num_articles:\n",
        "\n",
        "        params[\"start\"] = len(articles)\n",
        "\n",
        "        response = requests.get(base_url, params=params)\n",
        "\n",
        "\n",
        "\n",
        "        if response.status_code == 200:\n",
        "\n",
        "            soup = BeautifulSoup(response.text, \"html.parser\")\n",
        "\n",
        "            results = soup.find_all(\"div\", class_=\"gs_ri\")\n",
        "\n",
        "\n",
        "\n",
        "            if not results:\n",
        "\n",
        "                break\n",
        "\n",
        "\n",
        "\n",
        "            for result in results:\n",
        "\n",
        "                title = result.find(\"h3\", class_=\"gs_rt\").text\n",
        "\n",
        "                venue = result.find(\"div\", class_=\"gs_a\").text\n",
        "\n",
        "                year = result.find(\"div\", class_=\"gs_a\").text.split(\" - \")[-1]\n",
        "\n",
        "                authors = result.find(\"div\", class_=\"gs_a\").text.split(\" - \")[0]\n",
        "\n",
        "                abstract = result.find(\"div\", class_=\"gs_rs\").text\n",
        "\n",
        "\n",
        "\n",
        "                articles.append({\n",
        "\n",
        "                    \"Title\": title,\n",
        "\n",
        "                    \"Venue\": venue,\n",
        "\n",
        "                    \"Year\": year,\n",
        "\n",
        "                    \"Authors\": authors,\n",
        "\n",
        "                    \"Abstract\": abstract,\n",
        "\n",
        "                })\n",
        "\n",
        "\n",
        "\n",
        "    return articles\n",
        "\n",
        "\n",
        "\n",
        "# Example usage\n",
        "\n",
        "keyword = \"information retrieval\"\n",
        "\n",
        "num_articles_to_collect = 1000\n",
        "\n",
        "\n",
        "\n",
        "articles = scrape_google_scholar(keyword, num_articles=num_articles_to_collect)\n",
        "\n",
        "\n",
        "\n",
        "for index, article in enumerate(articles, start=1):\n",
        "\n",
        "    print(f\"Article {index}:\")\n",
        "\n",
        "    print(\"Title:\", article[\"Title\"])\n",
        "\n",
        "    print(\"Venue:\", article[\"Venue\"])\n",
        "\n",
        "    print(\"Year:\", article[\"Year\"])\n",
        "\n",
        "    print(\"Authors:\", article[\"Authors\"])\n",
        "\n",
        "    print(\"Abstract:\", article[\"Abstract\"])\n",
        "\n",
        "    print(\"\\n\")\n"
      ]
    },
    {
      "cell_type": "markdown",
      "source": [
        "Do either of the question-4 tasks given below."
      ],
      "metadata": {
        "id": "yCQpbJnwTxAB"
      }
    },
    {
      "cell_type": "markdown",
      "metadata": {
        "id": "GT3CNj_V9-pb"
      },
      "source": [
        "Question 4 (10 points): Write python code to collect 1000 posts from Twitter, or Facebook, or Instagram. You can either use hashtags, keywords, user_name, user_id, or other information to collect the data.\n",
        "\n",
        "The following information needs to be collected:\n",
        "\n",
        "(1) User_name\n",
        "\n",
        "(2) Posted time\n",
        "\n",
        "(3) Text"
      ]
    },
    {
      "cell_type": "code",
      "execution_count": null,
      "metadata": {
        "id": "FymVNKVi9-pb"
      },
      "outputs": [],
      "source": [
        "# You code here (Please add comments in the code):\n",
        "\n",
        "\n"
      ]
    },
    {
      "cell_type": "markdown",
      "source": [
        "Question 4 (10 points):\n",
        "\n",
        "In this task, you are required to identify and utilize online tools for web scraping data from websites without the need for coding, with a specific focus on Parsehub. The objective is to gather data and save it in formats like CSV, Excel, or any other suitable file format.\n",
        "\n",
        "You have to mention an introduction to the tool which ever you prefer to use, steps to follow for web scrapping and the final output of the data collected.\n",
        "\n",
        "Upload a document (Word or PDF File) in the same repository and you can add the link in the ipynb file."
      ],
      "metadata": {
        "id": "wOeAr9TJTBgS"
      }
    },
    {
      "cell_type": "code",
      "source": [
        "# Upload the link to the document here\n",
        "https://github.com/AnilkumarmMnnem/AnilKumar_INFO5731_Fall2023/blob/main/Mannem_AnilKumar_Excercise-2_4thQ.docx"
      ],
      "metadata": {
        "id": "N20TjXLmTG1u"
      },
      "execution_count": null,
      "outputs": []
    }
  ],
  "metadata": {
    "kernelspec": {
      "display_name": "Python 3 (ipykernel)",
      "language": "python",
      "name": "python3"
    },
    "language_info": {
      "codemirror_mode": {
        "name": "ipython",
        "version": 3
      },
      "file_extension": ".py",
      "mimetype": "text/x-python",
      "name": "python",
      "nbconvert_exporter": "python",
      "pygments_lexer": "ipython3",
      "version": "3.9.12"
    },
    "colab": {
      "provenance": [],
      "include_colab_link": true
    }
  },
  "nbformat": 4,
  "nbformat_minor": 0
}