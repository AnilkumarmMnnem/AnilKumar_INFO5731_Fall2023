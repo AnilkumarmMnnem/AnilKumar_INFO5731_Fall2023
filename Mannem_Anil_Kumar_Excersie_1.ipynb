{
  "cells": [
    {
      "cell_type": "markdown",
      "metadata": {
        "id": "view-in-github",
        "colab_type": "text"
      },
      "source": [
        "<a href=\"https://colab.research.google.com/github/AnilkumarmMnnem/AnilKumar_INFO5731_Fall2023/blob/main/Mannem_Anil_Kumar_Excersie_1.ipynb\" target=\"_parent\"><img src=\"https://colab.research.google.com/assets/colab-badge.svg\" alt=\"Open In Colab\"/></a>"
      ]
    },
    {
      "cell_type": "markdown",
      "metadata": {
        "id": "DymRJbxDBCnf"
      },
      "source": [
        "# **The first In-class-exercise (08/30/2023, 40 points in total)**\n",
        "This exercise is due tomorrow 08/31/203 11:59 PM.\n"
      ]
    },
    {
      "cell_type": "markdown",
      "metadata": {
        "id": "FBKvD6O_TY6e"
      },
      "source": [
        "(1) Write a Python program to calculate the area of a rectangle using user-input length and width."
      ]
    },
    {
      "cell_type": "code",
      "execution_count": 1,
      "metadata": {
        "id": "cikVKDXdTbzE",
        "colab": {
          "base_uri": "https://localhost:8080/"
        },
        "outputId": "d8eb1307-54c3-41e1-f68c-3a1930fd487c"
      },
      "outputs": [
        {
          "output_type": "stream",
          "name": "stdout",
          "text": [
            "Enter Length of the rectangle :5\n",
            "Enter Breadth of the rectangle : 4\n",
            "Area of rectangle :  20.0\n"
          ]
        }
      ],
      "source": [
        "# write your answer here\n",
        "length = float(input(\"Enter Length of the rectangle :\"))\n",
        "breadth = float(input(\"Enter Breadth of the rectangle : \"))\n",
        "rectangle_area = length*breadth\n",
        "print(\"Area of rectangle : \", rectangle_area)"
      ]
    },
    {
      "cell_type": "markdown",
      "metadata": {
        "id": "E9RqrlwdTfvl"
      },
      "source": [
        "(2) Create a program that takes two numbers from the user and swaps their values without using a temporary variable."
      ]
    },
    {
      "cell_type": "code",
      "execution_count": 2,
      "metadata": {
        "id": "4XvRknixTh1g",
        "colab": {
          "base_uri": "https://localhost:8080/"
        },
        "outputId": "f494693a-5d79-463b-f6d6-5a3f763de464"
      },
      "outputs": [
        {
          "output_type": "stream",
          "name": "stdout",
          "text": [
            "Enter 1st number 4\n",
            "Enter 2nd number 2\n",
            "Numbers after swapping are: 2 , 4\n"
          ]
        }
      ],
      "source": [
        "# write your answer here\n",
        "a = int(input(\"Enter 1st number \"))\n",
        "b = int(input(\"Enter 2nd number \"))\n",
        "a = a+b\n",
        "b = a-b\n",
        "a = a-b\n",
        "print(\"Numbers after swapping are:\", a,\",\", b)"
      ]
    },
    {
      "cell_type": "markdown",
      "metadata": {
        "id": "03jb4GZsBkBS"
      },
      "source": [
        "(3) Write a Python program to calculate the length of a string."
      ]
    },
    {
      "cell_type": "code",
      "execution_count": 3,
      "metadata": {
        "id": "YaGLbSHHB8Ej",
        "colab": {
          "base_uri": "https://localhost:8080/"
        },
        "outputId": "1b884ed7-042a-47f7-8556-1496b65f1823"
      },
      "outputs": [
        {
          "output_type": "stream",
          "name": "stdout",
          "text": [
            "Enter the string to find its length: Google \n",
            "Length of the string is 7\n"
          ]
        }
      ],
      "source": [
        "# write your answer here\n",
        "str = input(\"Enter the string to find its length: \")\n",
        "print(\"Length of the string is\",len(str))"
      ]
    },
    {
      "cell_type": "markdown",
      "metadata": {
        "id": "jJDe71iLB616"
      },
      "source": [
        "(4) Write a Python program to count the number of characters in a string.\n",
        "\n",
        "Sample String : 'google.com‘,\n",
        "\n",
        "Expected Result : {'o': 3, 'g': 2, '.': 1, 'e': 1, 'l': 1, 'm': 1, 'c': 1}"
      ]
    },
    {
      "cell_type": "code",
      "execution_count": 4,
      "metadata": {
        "id": "MtKskTzbCLaU",
        "colab": {
          "base_uri": "https://localhost:8080/"
        },
        "outputId": "4cc43db5-1be1-4ccb-e001-7914cc6c381a"
      },
      "outputs": [
        {
          "output_type": "stream",
          "name": "stdout",
          "text": [
            "Enter the string: google.com\n",
            "character count : {'g':'2''o':'3''l':'1''e':'1''.':'1''c':'1''m':'1'}"
          ]
        }
      ],
      "source": [
        "# write your answer here\n",
        "str = input(\"Enter the string: \")\n",
        "count = {}\n",
        "for char in str:\n",
        "    if char in count:\n",
        "        count[char]+=1\n",
        "    else:\n",
        "        count[char]=1\n",
        "print(\"character count : {\",end=\"\")\n",
        "for char,count in count.items():\n",
        "    print(f\"'{char}':'{count}'\",end=\"\")\n",
        "\n",
        "print(\"}\",end=\"\")"
      ]
    },
    {
      "cell_type": "markdown",
      "metadata": {
        "id": "55W9AMdXCSpV"
      },
      "source": [
        "(5) Write a Python program to sum all the items in a list."
      ]
    },
    {
      "cell_type": "code",
      "execution_count": 5,
      "metadata": {
        "id": "I57NXsauCec2",
        "colab": {
          "base_uri": "https://localhost:8080/"
        },
        "outputId": "c48aae05-d995-48f6-f1a7-2a3182787ec4"
      },
      "outputs": [
        {
          "output_type": "stream",
          "name": "stdout",
          "text": [
            "Enter list of numbers1,2,3,4,5\n",
            "Sum of all items in a list is:  15\n"
          ]
        }
      ],
      "source": [
        "# write your answer here\n",
        "str = input(\"Enter list of numbers\")\n",
        "numbers_list = [int(item) for item in str.split(',')]\n",
        "total = sum(numbers_list)\n",
        "print(\"Sum of all items in a list is: \",total)\n"
      ]
    },
    {
      "cell_type": "markdown",
      "metadata": {
        "id": "4ulBZ6yhCi9F"
      },
      "source": [
        "(6) Write a Python program to get a string from a given string where all occurrences of its first char have been changed to '\\$', except the first char itself.\n",
        "\n",
        "Sample String : 'restart‘,\n",
        "\n",
        "Expected Result : 'resta\\$t'"
      ]
    },
    {
      "cell_type": "code",
      "execution_count": 6,
      "metadata": {
        "id": "Fj0XhwbBCw2o",
        "colab": {
          "base_uri": "https://localhost:8080/"
        },
        "outputId": "8b6b9c7b-0c74-4e7e-d20e-5535d0b4da56"
      },
      "outputs": [
        {
          "output_type": "stream",
          "name": "stdout",
          "text": [
            "Sample String : restart\n",
            "Expected Result : resta$t\n"
          ]
        }
      ],
      "source": [
        "# write your answer here\n",
        "str = input(\"Sample String : \")\n",
        "first_char = str[0]\n",
        "result_str = first_char+str[1:].replace(first_char,'$')\n",
        "print(\"Expected Result :\",result_str)\n"
      ]
    },
    {
      "cell_type": "markdown",
      "metadata": {
        "id": "qVXA3q7ET5JI"
      },
      "source": [
        "(7) Create a program that calculates the factorial of a number using a while loop."
      ]
    },
    {
      "cell_type": "code",
      "execution_count": 7,
      "metadata": {
        "id": "Lbt7R6UkT7BA",
        "colab": {
          "base_uri": "https://localhost:8080/"
        },
        "outputId": "164ef7f6-331d-4c78-922f-c8c3d4abac6c"
      },
      "outputs": [
        {
          "output_type": "stream",
          "name": "stdout",
          "text": [
            "Enter a number to find its factorial: 5\n",
            "120\n"
          ]
        }
      ],
      "source": [
        "# write your answer here\n",
        "number = int(input(\"Enter a number to find its factorial: \"))\n",
        "fact=1\n",
        "while(number>0):\n",
        "    fact*=number\n",
        "    number-=1\n",
        "print(fact)"
      ]
    },
    {
      "cell_type": "markdown",
      "metadata": {
        "id": "6YfbzXMNT--R"
      },
      "source": [
        "(8) Create a program that takes a list of numbers as input and outputs a new list with only the even numbers."
      ]
    },
    {
      "cell_type": "code",
      "execution_count": 9,
      "metadata": {
        "id": "54q7wMQPUAKu",
        "colab": {
          "base_uri": "https://localhost:8080/"
        },
        "outputId": "70bfdf9f-d249-4568-a2d4-4962fc9615a8"
      },
      "outputs": [
        {
          "output_type": "stream",
          "name": "stdout",
          "text": [
            "Enter list of numbers1,2,3,4,5,6,7,8,9\n",
            "[2, 4, 6, 8]\n"
          ]
        }
      ],
      "source": [
        "# write your answer here\n",
        "str = input(\"Enter list of numbers\")\n",
        "numbers_list = [int(item) for item in str.split(',')]\n",
        "new_list = [item for item in numbers_list if(item%2==0)]\n",
        "print(new_list)\n"
      ]
    },
    {
      "cell_type": "markdown",
      "metadata": {
        "id": "_bIP7s1MCzue"
      },
      "source": [
        "(9) Write a program with python which could accept two parameter a and b to calculate and output the result of S, where\n",
        "\n",
        "$\\ S=3.14*(1+a/b)^3$\n",
        "\n"
      ]
    },
    {
      "cell_type": "code",
      "execution_count": 10,
      "metadata": {
        "id": "w79QilHXD3Mg",
        "colab": {
          "base_uri": "https://localhost:8080/"
        },
        "outputId": "10ec4614-bbfd-4b97-9811-9834f30b435c"
      },
      "outputs": [
        {
          "output_type": "stream",
          "name": "stdout",
          "text": [
            "Enter the value of a: 4\n",
            "Enter the value of b: 2\n",
            "Output of S is:  84.78\n"
          ]
        }
      ],
      "source": [
        "# write your answer here\n",
        "a = float(input(\"Enter the value of a: \"))\n",
        "b = float(input(\"Enter the value of b: \"))\n",
        "S = 3.14 * pow((1+a/b),3)\n",
        "print(\"Output of S is: \",S)"
      ]
    },
    {
      "cell_type": "markdown",
      "metadata": {
        "id": "xCa2bK9aD4Q3"
      },
      "source": [
        "(10) Write a Python program to concatenate following dictionaries to create a new one.\n",
        "\n",
        "Sample Dictionary : dic1={1:10, 2:20}, dic2={3:30, 4:40}, dic3={5:50,6:60},\n",
        "\n",
        "Expected Result : {1: 10, 2: 20, 3: 30, 4: 40, 5: 50, 6: 60}\n"
      ]
    },
    {
      "cell_type": "code",
      "execution_count": 11,
      "metadata": {
        "id": "_z4aLqAbEET1",
        "colab": {
          "base_uri": "https://localhost:8080/"
        },
        "outputId": "9476b0ac-65ad-475d-997a-5ea69bafa6a9"
      },
      "outputs": [
        {
          "output_type": "stream",
          "name": "stdout",
          "text": [
            "Enter the number of dictionaries: 3\n",
            "dic 1 = 1:10, 2:20\n",
            "dic 2 = 3:30, 4:40\n",
            "dic 3 = 5:50, 6:60\n",
            "Concatenated dictionary: {'1': '10', ' 2': '20', '3': '30', ' 4': '40', '5': '50', ' 6': '60'}\n"
          ]
        }
      ],
      "source": [
        "expected_result = {}\n",
        "number_of_dicts = int(input(\"Enter the number of dictionaries: \"))\n",
        "for i in range(number_of_dicts):\n",
        "    str = input(f\"dic {i + 1} = \")\n",
        "    input_dict = dict(item.split(\":\") for item in str.split(\",\"))\n",
        "    expected_result.update(input_dict)\n",
        "print(\"Concatenated dictionary:\", expected_result)\n"
      ]
    },
    {
      "cell_type": "markdown",
      "metadata": {
        "id": "bkyZ2xSZUOst"
      },
      "source": [
        "(11) Write a Python function that accepts a tuple of integers and returns the largest and smallest elements."
      ]
    },
    {
      "cell_type": "code",
      "execution_count": 21,
      "metadata": {
        "id": "3FdLRBKOUQEd",
        "colab": {
          "base_uri": "https://localhost:8080/"
        },
        "outputId": "4333f130-6c50-46db-d9ba-56a02a04743d"
      },
      "outputs": [
        {
          "output_type": "stream",
          "name": "stdout",
          "text": [
            "enter tuple52917\n",
            "('5', '2', '9', '1', '7')\n",
            "Largest: 9\n",
            "Smallest: 1\n"
          ]
        }
      ],
      "source": [
        "# write your answer here\n",
        "# numbers_tuple = (5, 2, 9, 1, 7)\n",
        "numbers_tuple = tuple(input(\"enter tuple\"))\n",
        "print(numbers_tuple)\n",
        "\n",
        "def find_L_and_S(numbers):\n",
        "    if not numbers:\n",
        "        return None, None\n",
        "\n",
        "    L = S = numbers[0]\n",
        "\n",
        "    for num in numbers:\n",
        "        if num > L:\n",
        "            L = num\n",
        "        elif num < S:\n",
        "            S = num\n",
        "\n",
        "    return L, S\n",
        "\n",
        "L, S = find_L_and_S(numbers_tuple)\n",
        "print(\"Largest:\", L)\n",
        "print(\"Smallest:\", S)"
      ]
    },
    {
      "cell_type": "markdown",
      "metadata": {
        "id": "O0TVi3gKUTpp"
      },
      "source": [
        "(12) Write a Python program that counts the frequency of each character in a given string and stores it in a dictionary."
      ]
    },
    {
      "cell_type": "code",
      "execution_count": 27,
      "metadata": {
        "id": "lAtfSfZXUU-h",
        "colab": {
          "base_uri": "https://localhost:8080/"
        },
        "outputId": "9d3d8308-a1d1-4ca2-d1cf-6bbdabef770b"
      },
      "outputs": [
        {
          "output_type": "stream",
          "name": "stdout",
          "text": [
            "Enter TextMessi is in MLS\n",
            "Character 'M' appears 2 times\n",
            "Character 'e' appears 1 times\n",
            "Character 's' appears 3 times\n",
            "Character 'i' appears 3 times\n",
            "Character ' ' appears 3 times\n",
            "Character 'n' appears 1 times\n",
            "Character 'L' appears 1 times\n",
            "Character 'S' appears 1 times\n"
          ]
        }
      ],
      "source": [
        "# write your answer here\n",
        "input_string = input(\"Enter Text\")\n",
        "def count_char_freq(input_string):\n",
        "    freq_dict = {}\n",
        "\n",
        "    for char in input_string:\n",
        "        if char in freq_dict:\n",
        "            freq_dict[char] += 1\n",
        "        else:\n",
        "            freq_dict[char] = 1\n",
        "\n",
        "    return freq_dict\n",
        "\n",
        "\n",
        "\n",
        "char_freq = count_char_freq(input_string)\n",
        "for char, freq in char_freq.items():\n",
        "    print(f\"Character '{char}' appears {freq} times\")"
      ]
    },
    {
      "cell_type": "markdown",
      "metadata": {
        "id": "0v48Vqa7FrQh"
      },
      "source": [
        "(13) Write a Python program to check whether an element exists within a tuple."
      ]
    },
    {
      "cell_type": "code",
      "execution_count": 4,
      "metadata": {
        "id": "7WEmgq-DF2P1",
        "colab": {
          "base_uri": "https://localhost:8080/"
        },
        "outputId": "9253e739-fc93-4c93-f343-c0ee616f670c"
      },
      "outputs": [
        {
          "output_type": "stream",
          "name": "stdout",
          "text": [
            "Enter elements of the tuple separated by spaces: a n i l\n",
            "Enter the element you want to check for: k\n",
            "The element k does not exist in the tuple.\n"
          ]
        }
      ],
      "source": [
        "import string\n",
        "def ele_exists_in_tuple(ele, input_tuple):\n",
        "    return ele in input_tuple\n",
        "\n",
        "\n",
        "input_tuple =  tuple(input(\"Enter elements of the tuple separated by spaces: \"))\n",
        "ele_to_check = input(\"Enter the element you want to check for: \")\n",
        "\n",
        "if ele_exists_in_tuple(ele_to_check, input_tuple):\n",
        "    print(f\"The element {ele_to_check} exists in the tuple.\")\n",
        "else:\n",
        "    print(f\"The element {ele_to_check} does not exist in the tuple.\")"
      ]
    },
    {
      "cell_type": "markdown",
      "metadata": {
        "id": "vD5PYLMuGga_"
      },
      "source": [
        "(14) Write a Python program to find maximum and the minimum value in a set."
      ]
    },
    {
      "cell_type": "code",
      "execution_count": 49,
      "metadata": {
        "id": "t0D5kdJUGjjw",
        "colab": {
          "base_uri": "https://localhost:8080/"
        },
        "outputId": "a88b880d-f0ee-4fe2-d5ee-405c9a25cef7"
      },
      "outputs": [
        {
          "output_type": "stream",
          "name": "stdout",
          "text": [
            "Enter Numbers1,2,3,4,5,6\n",
            "Maximum value: 6\n",
            "Minimum value: 1\n"
          ]
        }
      ],
      "source": [
        "# write your answer here\n",
        "def find_max_and_min_value(input_set):\n",
        "    if not input_set:\n",
        "        return None, None\n",
        "\n",
        "    max_value = max(input_set)\n",
        "    min_value = min(input_set)\n",
        "\n",
        "    return max_value, min_value\n",
        "\n",
        "\n",
        "input_set = input(\"Enter Numbers\").split(\",\")\n",
        "input_values = set(map(int, input_set))\n",
        "max_value, min_value = find_max_and_min_value(input_values)\n",
        "\n",
        "if max_value is not None and min_value is not None:\n",
        "    print(\"Maximum value:\", max_value)\n",
        "    print(\"Minimum value:\", min_value)\n",
        "else:\n",
        "    print(\"The set is empty.\")"
      ]
    },
    {
      "cell_type": "markdown",
      "metadata": {
        "id": "uHkd-y5VhVWC"
      },
      "source": [
        "(15) Write a Python program to randomly divide the students in this class into six groups for term projects, each group should have at least 4 students but no more than 6 students (including 6). Here is the students list:\n",
        "student_list_fall_2023=['sb1826' ,\n",
        " 'lb0582' ,\n",
        " 'ab1820' ,\n",
        " 'sb1883' ,\n",
        " 'mb1296' ,\n",
        " 'sc1622' ,\n",
        " 'tc0469' ,\n",
        " 'ac1770' ,\n",
        " 'mc1453' ,\n",
        " 'ad1187' ,\n",
        " 'sd0926' ,\n",
        " 'sd1268' ,\n",
        " 'ag1609' ,\n",
        " 'sg1638' ,\n",
        " 'mg1299' ,\n",
        " 'vkk0022' ,\n",
        " 'bk0413' ,\n",
        " 'gk0257' ,\n",
        " 'am2807' ,\n",
        " 'gm0558' ,\n",
        " 'pm0658' ,\n",
        " 'am2346' ,\n",
        " 'rm1090' ,\n",
        " 'sm2364' ,\n",
        " 'sm2747' ,\n",
        " 'sm2343' ,\n",
        " 'vm0597' ,\n",
        " 'htn0086' ,\n",
        " 'sp2075' ,\n",
        " 'gp0306' ,\n",
        " 'lp0502' ,\n",
        " 'sr1508' ,\n",
        " 'vr0331' ,\n",
        " 'yr0180' ,\n",
        " 'as2819' ,\n",
        " 'ss2981' ,\n",
        " 'ns0756' ,\n",
        " 'mt0825' ,\n",
        " 'dt0463' ,\n",
        " 'su0137' ,\n",
        " 'dv0310'\n",
        "]"
      ]
    },
    {
      "cell_type": "code",
      "execution_count": 55,
      "metadata": {
        "id": "3iGbmcOBhTwy",
        "colab": {
          "base_uri": "https://localhost:8080/"
        },
        "outputId": "cc882a97-4c1a-47f7-cc4d-bf84790c6446"
      },
      "outputs": [
        {
          "output_type": "stream",
          "name": "stdout",
          "text": [
            "Group 1: ['vm0597', 'vkk0022', 'vr0331', 'am2346', 'ag1609', 'gk0257', 'sb1883']\n",
            "Group 2: ['mg1299', 'sm2364', 'sm2747', 'sc1622', 'sd0926', 'tc0469', 'htn0086']\n",
            "Group 3: ['dv0310', 'bk0413', 'dt0463', 'sr1508', 'pm0658', 'am2807', 'gm0558']\n",
            "Group 4: ['gp0306', 'sp2075', 'lp0502', 'sd1268', 'sb1826', 'rm1090', 'mb1296']\n",
            "Group 5: ['ss2981', 'ab1820', 'ac1770', 'ns0756', 'su0137', 'sm2343', 'mc1453']\n",
            "Group 6: ['sg1638', 'yr0180', 'mt0825', 'ad1187', 'as2819', 'lb0582']\n"
          ]
        }
      ],
      "source": [
        "import random\n",
        "\n",
        "def divide_students_into_groups(studentsList, size_min, size_max):\n",
        "    random.shuffle(studentsList)\n",
        "\n",
        "    groups = [[] for _ in range(6)]\n",
        "    current_group = 0\n",
        "\n",
        "    for student in studentsList:\n",
        "        if len(groups[current_group]) < size_max:\n",
        "            groups[current_group].append(student)\n",
        "        else:\n",
        "            current_group += 1\n",
        "            if current_group >= 6:\n",
        "                current_group = 0\n",
        "            groups[current_group].append(student)\n",
        "\n",
        "    return groups\n",
        "\n",
        "studentList = ['sb1826', 'lb0582', 'ab1820', 'sb1883', 'mb1296', 'sc1622', 'tc0469', 'ac1770', 'mc1453',\n",
        "                          'ad1187', 'sd0926', 'sd1268', 'ag1609', 'sg1638', 'mg1299', 'vkk0022', 'bk0413', 'gk0257',\n",
        "                          'am2807', 'gm0558', 'pm0658', 'am2346', 'rm1090', 'sm2364', 'sm2747', 'sm2343', 'vm0597',\n",
        "                          'htn0086', 'sp2075', 'gp0306', 'lp0502', 'sr1508', 'vr0331', 'yr0180', 'as2819', 'ss2981',\n",
        "                          'ns0756', 'mt0825', 'dt0463', 'su0137', 'dv0310']\n",
        "\n",
        "\n",
        "size_min = 4\n",
        "size_max = 6\n",
        "\n",
        "\n",
        "groups = divide_students_into_groups(studentList, size_min, size_max)\n",
        "\n",
        "\n",
        "for i, group in enumerate(groups, start=1):\n",
        "    print(f\"Group {i}: {group}\")\n"
      ]
    },
    {
      "cell_type": "markdown",
      "metadata": {
        "id": "fmZ9vX20Qs3d"
      },
      "source": [
        "(16) Write a Python program to find the duplicate elements in a given array of integers. Return -1 If there are no such elements."
      ]
    },
    {
      "cell_type": "code",
      "execution_count": 64,
      "metadata": {
        "id": "W8Jw6sWMQs3d",
        "colab": {
          "base_uri": "https://localhost:8080/"
        },
        "outputId": "e86279d0-e62f-49db-d6e2-385e924f104c"
      },
      "outputs": [
        {
          "output_type": "stream",
          "name": "stdout",
          "text": [
            "Enter elements to check: 1,2\n",
            "-1\n"
          ]
        }
      ],
      "source": [
        "# write your answer here\n",
        "def get_duplicate_elements(val):\n",
        "    valuesEntered = set()\n",
        "    duplicate = set()\n",
        "\n",
        "    for num in val:\n",
        "        if num in valuesEntered:\n",
        "            duplicate.add(num)\n",
        "        else:\n",
        "            valuesEntered.add(num)\n",
        "\n",
        "    if not duplicate:\n",
        "        print (\"-1\")\n",
        "    else:\n",
        "        print (list(duplicate))\n",
        "\n",
        "# Get input from the user\n",
        "inputNumbers = input(\"Enter elements to check: \").split(\",\")\n",
        "arrayOfValues = list(map(int, inputNumbers))\n",
        "\n",
        "result = get_duplicate_elements(arrayOfValues)\n",
        "\n"
      ]
    },
    {
      "cell_type": "markdown",
      "metadata": {
        "id": "hvq4APMhQs3d"
      },
      "source": [
        "(17) Write a Python program to select all the Sundays of a specified year."
      ]
    },
    {
      "cell_type": "code",
      "execution_count": null,
      "metadata": {
        "id": "ZnoxhSglQs3d",
        "outputId": "0c832393-fd1f-4fd8-cfde-5a90c7a7bc91"
      },
      "outputs": [
        {
          "name": "stdout",
          "output_type": "stream",
          "text": [
            "Enter the year: 2023\n",
            "Sundays in 2023:\n",
            "2023-01-01\n",
            "2023-01-08\n",
            "2023-01-15\n",
            "2023-01-22\n",
            "2023-01-29\n",
            "2023-02-05\n",
            "2023-02-12\n",
            "2023-02-19\n",
            "2023-02-26\n",
            "2023-03-05\n",
            "2023-03-12\n",
            "2023-03-19\n",
            "2023-03-26\n",
            "2023-04-02\n",
            "2023-04-09\n",
            "2023-04-16\n",
            "2023-04-23\n",
            "2023-04-30\n",
            "2023-05-07\n",
            "2023-05-14\n",
            "2023-05-21\n",
            "2023-05-28\n",
            "2023-06-04\n",
            "2023-06-11\n",
            "2023-06-18\n",
            "2023-06-25\n",
            "2023-07-02\n",
            "2023-07-09\n",
            "2023-07-16\n",
            "2023-07-23\n",
            "2023-07-30\n",
            "2023-08-06\n",
            "2023-08-13\n",
            "2023-08-20\n",
            "2023-08-27\n",
            "2023-09-03\n",
            "2023-09-10\n",
            "2023-09-17\n",
            "2023-09-24\n",
            "2023-10-01\n",
            "2023-10-08\n",
            "2023-10-15\n",
            "2023-10-22\n",
            "2023-10-29\n",
            "2023-11-05\n",
            "2023-11-12\n",
            "2023-11-19\n",
            "2023-11-26\n",
            "2023-12-03\n",
            "2023-12-10\n",
            "2023-12-17\n",
            "2023-12-24\n",
            "2023-12-31\n"
          ]
        }
      ],
      "source": [
        "# write your answer here\n",
        "import datetime\n",
        "year = int(input(\"Enter the year: \"))\n",
        "current_date = datetime.date(year, 1, 1)\n",
        "sundays = []\n",
        "while current_date.year == year:\n",
        "    if current_date.weekday() == 6:\n",
        "        sundays.append(current_date)\n",
        "    current_date += datetime.timedelta(days=1)\n",
        "print(f\"Sundays in {year}:\")\n",
        "for sunday in sundays:\n",
        "    print(sunday)\n",
        "\n"
      ]
    },
    {
      "cell_type": "markdown",
      "metadata": {
        "id": "55FWoSJPVVM6"
      },
      "source": [
        "(18) Build a program that calculates the factorial of a given positive integer. The factorial of a non-negative integer n is the product of all positive integers less than or equal to n."
      ]
    },
    {
      "cell_type": "code",
      "execution_count": null,
      "metadata": {
        "id": "hwtr1wZmVX5A",
        "outputId": "03f57cac-44d6-4908-d8c3-91a2b7a19d59"
      },
      "outputs": [
        {
          "name": "stdout",
          "output_type": "stream",
          "text": [
            "Enter a number to find its factorial: 5\n",
            "120\n"
          ]
        }
      ],
      "source": [
        "# write your answer here\n",
        "number = int(input(\"Enter a number to find its factorial: \"))\n",
        "fact=1\n",
        "if(number ==1 or number ==0):\n",
        "    print(fact)\n",
        "while(number>0):\n",
        "    fact*=number\n",
        "    number-=1\n",
        "print(fact)"
      ]
    },
    {
      "cell_type": "markdown",
      "metadata": {
        "id": "Q9ecagcaVazW"
      },
      "source": [
        "(19) Write a program that takes a positive integer n as input and prints the count of even numbers from 1 to n. Use a loop to iterate through the numbers and utilize the break statement to optimize the loop."
      ]
    },
    {
      "cell_type": "code",
      "execution_count": 70,
      "metadata": {
        "id": "gycgckoAVZjR",
        "colab": {
          "base_uri": "https://localhost:8080/"
        },
        "outputId": "d8adb9e3-d60e-4570-e059-65b0eab21b03"
      },
      "outputs": [
        {
          "output_type": "stream",
          "name": "stdout",
          "text": [
            "Enter a positive integer: -13\n",
            "Please enter a positive integer.\n"
          ]
        }
      ],
      "source": [
        "# write your answer here\n",
        "def countOfEvenNumbers(n):\n",
        "    count = 0\n",
        "\n",
        "    for num in range(1, n + 1):\n",
        "        if num % 2 == 0:\n",
        "            count += 1\n",
        "        elif num > n:\n",
        "            break\n",
        "\n",
        "    return count\n",
        "\n",
        "inputNumber = int(input(\"Enter a positive integer: \"))\n",
        "\n",
        "if inputNumber <= 0:\n",
        "    print(\"enter a positive integer.\")\n",
        "else:\n",
        "    totalCount = countOfEvenNumbers(inputNumber)\n",
        "    print(\"Total count of even numbers from 1 to {inputNumber} :\", totalCount)\n"
      ]
    },
    {
      "cell_type": "markdown",
      "metadata": {
        "id": "cboAr5pEWUf5"
      },
      "source": [
        "(20) Write a Python function called count_vowels that takes a string as input and returns the count of vowels (both lowercase and uppercase) present in the string. Consider the vowels to be 'a', 'e', 'i', 'o', and 'u'. Ignore spaces and other non-alphabetic characters."
      ]
    },
    {
      "cell_type": "code",
      "execution_count": 2,
      "metadata": {
        "id": "phs9gciMWWAW",
        "colab": {
          "base_uri": "https://localhost:8080/"
        },
        "outputId": "5ad52969-67ce-4c65-926b-357e4ae09dec"
      },
      "outputs": [
        {
          "output_type": "stream",
          "name": "stdout",
          "text": [
            "Enter a string anil\n",
            "The count of vowels in the string is: 2\n"
          ]
        }
      ],
      "source": [
        "input_Value = input(\"Enter a string \")\n",
        "\n",
        "# write your answer here\n",
        "def getVowelCount(input_Value):\n",
        "    vowels = 'aeiouAEIOU'\n",
        "    vowelCounter = 0\n",
        "\n",
        "    for char in input_Value:\n",
        "        if char in vowels:\n",
        "            vowelCounter += 1\n",
        "\n",
        "    return vowelCounter\n",
        "\n",
        "\n",
        "\n",
        "vowelCounter = getVowelCount(input_Value)\n",
        "print(f\"The count of vowels in the string is: {vowelCounter}\")\n"
      ]
    },
    {
      "cell_type": "code",
      "source": [],
      "metadata": {
        "id": "TtOgTqiD7bwF"
      },
      "execution_count": null,
      "outputs": []
    }
  ],
  "metadata": {
    "colab": {
      "provenance": [],
      "include_colab_link": true
    },
    "kernelspec": {
      "display_name": "Python 3",
      "language": "python",
      "name": "python3"
    },
    "language_info": {
      "codemirror_mode": {
        "name": "ipython",
        "version": 3
      },
      "file_extension": ".py",
      "mimetype": "text/x-python",
      "name": "python",
      "nbconvert_exporter": "python",
      "pygments_lexer": "ipython3",
      "version": "3.8.8"
    }
  },
  "nbformat": 4,
  "nbformat_minor": 0
}