{
  "cells": [
    {
      "cell_type": "markdown",
      "metadata": {
        "id": "view-in-github",
        "colab_type": "text"
      },
      "source": [
        "<a href=\"https://colab.research.google.com/github/AnilkumarmMnnem/AnilKumar_INFO5731_Fall2023/blob/main/Mannem_Anil_Kumar_Assignment_1.ipynb\" target=\"_parent\"><img src=\"https://colab.research.google.com/assets/colab-badge.svg\" alt=\"Open In Colab\"/></a>"
      ]
    },
    {
      "cell_type": "markdown",
      "metadata": {
        "id": "Ryk8D1Q4Wsrp"
      },
      "source": [
        "# **Mannem_AnilKumar_Assignment One**"
      ]
    },
    {
      "cell_type": "markdown",
      "metadata": {
        "id": "90_NR8c5XGWc"
      },
      "source": [
        "# Question 1\n",
        "\n",
        "(20 points). Write a Python program to generate 12 random numbers between 1 and 100. Sort the list of numbers in ascending order and print it out. Sort the list of numbers in descending order and print it out. Calculate the average for the group and print it out."
      ]
    },
    {
      "cell_type": "code",
      "execution_count": 1,
      "metadata": {
        "id": "5QX6bJjGWXY9",
        "colab": {
          "base_uri": "https://localhost:8080/"
        },
        "outputId": "63815c01-8656-4cb6-98ee-596d47f6260c"
      },
      "outputs": [
        {
          "output_type": "stream",
          "name": "stdout",
          "text": [
            "Operation                                     Value\n",
            "------------------------------------------------------------------------------------------\n",
            "Random Numbers                                [80, 28, 78, 15, 67, 2, 73, 96, 9, 33, 31, 6]\n",
            "Sorted in Ascending Order                     [2, 6, 9, 15, 28, 31, 33, 67, 73, 78, 80, 96]\n",
            "Sorted in Descending Order                    [96, 80, 78, 73, 67, 33, 31, 28, 15, 9, 6, 2]\n",
            "Average                                       43.17\n"
          ]
        }
      ],
      "source": [
        "import random\n",
        "\n",
        "# Generate 12 random numbers between 1 and 100\n",
        "# generating numbers using built in random lib, and list comprehension\n",
        "random_numbers = [random.randint(1, 100) for _ in range(12)]\n",
        "\n",
        "# Using built-in Sorted function to sort elements in a list\n",
        "# Sort the list in ascending order\n",
        "sorted_random_numbers_asc = sorted(random_numbers)\n",
        "\n",
        "# Sort the list in descending order\n",
        "sorted_random_numbers_desc = sorted(random_numbers, reverse=True)\n",
        "\n",
        "# Calculate the average\n",
        "random_numbers_average = sum(random_numbers) / len(random_numbers)\n",
        "\n",
        "# Print the results\n",
        "print(\"Operation\".ljust(45), \"Value\")\n",
        "print(\"-\" * 90)\n",
        "print(\"Random Numbers\".ljust(45), random_numbers)\n",
        "print(\"Sorted in Ascending Order\".ljust(45), sorted_random_numbers_asc)\n",
        "print(\"Sorted in Descending Order\".ljust(45), sorted_random_numbers_desc)\n",
        "print(\"Average\".ljust(45), f\"{random_numbers_average:.2f}\")\n"
      ]
    },
    {
      "cell_type": "markdown",
      "metadata": {
        "id": "1F_PZdH9Sh49"
      },
      "source": [
        "# Question 2\n",
        "(25 points).\n",
        "\n",
        "Write a program that will do the following string formatting tasks:\n",
        "\n",
        "(1) Ask the user to enter two sentences.\n",
        "\n",
        "(2) Make each sentence into a list. Each element in the list should correspond to a word in the sentence. For example, if the sentence is \"Alas! Am I alive? This is my first python program\", the program should print out ['Alas, '!', 'Am', 'I', 'alive, '?', 'This', 'is', 'my', 'first', 'python', 'program'].\n",
        "\n",
        "(3) Compare the two sentences. Print out a list of words that occur in both sentences.\n",
        "\n",
        "(4) Remove any punctuation from the sentence and print it back out. It should remove at least the following characters, but it can remove more: period(“.”), comma (“,”), semicolon (“;”), and colon (“:”)\n",
        "\n",
        "(5) Count the number of vowels in the sentences. Print out each vowel and the number of times it appears in the sentences, such as: a:2, e:1, i:0, etc"
      ]
    },
    {
      "cell_type": "code",
      "execution_count": 12,
      "metadata": {
        "id": "Y0oOSlsOS0cq",
        "colab": {
          "base_uri": "https://localhost:8080/"
        },
        "outputId": "e2d598b1-4793-4a3e-f73e-c05080cc917c"
      },
      "outputs": [
        {
          "output_type": "stream",
          "name": "stdout",
          "text": [
            "Enter the first sentence: Alas! Am I alive? This is my first python program\n",
            "Enter the second sentence: Alas! Am I alive? This is my first python program\n",
            "Common Words: ['first', 'program', 'is', 'python', 'my', 'This', 'I', 'alive?', 'Am', 'Alas!']\n",
            "Sentence 1 without Punctuation: Alas Am I alive This is my first python program\n",
            "Sentence 2 without Punctuation: Alas Am I alive This is my first python program\n",
            "Vowel Count in Sentence 1: {'a': 3, 'e': 1, 'i': 4, 'o': 2, 'u': 0, 'A': 2, 'E': 0, 'I': 1, 'O': 0, 'U': 0}\n",
            "Vowel Count in Sentence 2: {'a': 3, 'e': 1, 'i': 4, 'o': 2, 'u': 0, 'A': 2, 'E': 0, 'I': 1, 'O': 0, 'U': 0}\n"
          ]
        }
      ],
      "source": [
        "import string\n",
        "\n",
        "# (1) User input for two sentences\n",
        "first_senetence = input(\"Enter the first sentence: \")\n",
        "second_sentence = input(\"Enter the second sentence: \")\n",
        "\n",
        "# (2) Convert the entered senetences into list\n",
        "def sentence_to_word_list(sentence):\n",
        "    # Custom split function to split on non-alphanumeric characters\n",
        "    def custom_split(text):\n",
        "        word = \"\"\n",
        "        for char in text:\n",
        "            if char.isalnum() or char in string.punctuation:\n",
        "                word += char\n",
        "            else:\n",
        "                if word:\n",
        "                    yield word\n",
        "                word = \"\"\n",
        "        if word:\n",
        "            yield word\n",
        "\n",
        "    # Using the custom split function to split the sentence into words\n",
        "    return list(custom_split(sentence))\n",
        "\n",
        "words1 = sentence_to_word_list(first_senetence)\n",
        "words2 = sentence_to_word_list(second_sentence)\n",
        "\n",
        "# (3) Compare the two sentences and print common words\n",
        "# Using set data structure to eliminate duplicates from the list\n",
        "common_words = list(set(words1) & set(words2))\n",
        "print(\"Common Words:\", common_words)\n",
        "\n",
        "# (4) Remove punctuation from the sentences, by using the same list comprehension as used earlier\n",
        "def remove_punctuation(sentence):\n",
        "    return ''.join(char for char in sentence if char not in string.punctuation)\n",
        "\n",
        "first_senetence_no_punct = remove_punctuation(first_senetence)\n",
        "second_sentence_no_punct = remove_punctuation(second_sentence)\n",
        "print(\"Sentence 1 without Punctuation:\", first_senetence_no_punct)\n",
        "print(\"Sentence 2 without Punctuation:\", second_sentence_no_punct)\n",
        "\n",
        "# (5) Count the number of vowels in the sentences\n",
        "def count_vowels(sentence):\n",
        "    vowels = \"aeiouAEIOU\"\n",
        "    vowel_count = {vowel: 0 for vowel in vowels}\n",
        "    for char in sentence:\n",
        "        if char in vowels:\n",
        "            vowel_count[char] += 1\n",
        "    return vowel_count\n",
        "\n",
        "vowel_count1 = count_vowels(first_senetence)\n",
        "vowel_count2 = count_vowels(second_sentence)\n",
        "print(\"Vowel Count in Sentence 1:\", vowel_count1)\n",
        "print(\"Vowel Count in Sentence 2:\", vowel_count2)"
      ]
    },
    {
      "cell_type": "markdown",
      "metadata": {
        "id": "CmFoI4jDS9nx"
      },
      "source": [
        "# Question 3\n",
        "\n",
        "(15 points). The formula that describes the volume V of a sphere with radius r is the following:\n",
        "\n",
        "$ V=\\frac{4}{3}\\ast\\ \\pi\\ast\\ r^3 $\n",
        "\n",
        "Write a program to calculate the value of V when r is in the range of 1–10. Output the result in the following format:\n",
        "\n",
        "\tr\tV\n",
        "\t1\t…\n",
        "\t2\t…\n",
        "\t3\t…\n"
      ]
    },
    {
      "cell_type": "code",
      "execution_count": 3,
      "metadata": {
        "id": "pEyqeioAT95b",
        "colab": {
          "base_uri": "https://localhost:8080/"
        },
        "outputId": "78746b6d-70bf-40c0-dce2-569c340bca5f"
      },
      "outputs": [
        {
          "output_type": "stream",
          "name": "stdout",
          "text": [
            "r    V\n",
            "1    4.19\n",
            "2    33.51\n",
            "3    113.10\n",
            "4    268.08\n",
            "5    523.60\n",
            "6    904.78\n",
            "7    1436.76\n",
            "8    2144.66\n",
            "9    3053.63\n",
            "10    4188.79\n"
          ]
        }
      ],
      "source": [
        "import math\n",
        "\n",
        "# Print the header\n",
        "print(\"r    V\")\n",
        "\n",
        "# Calculate and print the volume for each radius in the range 1-10\n",
        "# using python range function and built in math lib\n",
        "for r in range(1, 11):\n",
        "    V = (4/3) * math.pi * r**3\n",
        "    print(f\"{r}    {V:.2f}\")"
      ]
    },
    {
      "cell_type": "markdown",
      "metadata": {
        "id": "z3tBE7E-Xn5X"
      },
      "source": [
        "# Question 4\n",
        "\n",
        "(40 points). In the field of Data Science, data is often formatted as a comma-delimited (CSV) file, where each line in a file corresponds to a field's value. Refer to Chapter 9 (p. 106) for more information on comma-delimited files. To answer this question, you will need to download the file [Assignment1_denton_housing.csv](https://raw.githubusercontent.com/unt-iialab/info5731-spring2022/main/assignments/Assignment1_denton_housing.csv) included with this assignment. The file [Assignment1_denton_housing.csv](https://raw.githubusercontent.com/unt-iialab/info5731-spring2022/main/assignments/Assignment1_denton_housing.csv) contains statistics about housing in the city of Denton from 2008 to 2014. Write a program to implement the following questions.\n",
        "\n",
        "(1) (10 pts) Calculate the difference in the number of Occupied Housing Units from year to year and print it. The difference must be calculated for the consecutive years such as 2008-2009, 2009-2010 etc. Finally, print the values in the ascending order.\n",
        "\n",
        "(2) (10 pts) For all the years, calculate the percentage of housing units which are vacant an occupied. Print the results in the following format:\n",
        "\n",
        "Year Vacant Housing Units Occupied Housing Units\n",
        "\n",
        "    2008  30%   70%                          \n",
        "\t2009 ----- -----\n",
        "\t2010 ----- -----\n",
        "    2011 ----- -----\n",
        "\t2012 ----- -----\n",
        "    2013 ----- -----\n",
        "\t2014 ----- -----\n",
        "  \n",
        "  \n",
        "\n",
        "(3) (10 pts) Calculate and print the valued and years in which the highest number of housing units were vacant and occupied. Print the results in the following format:  \n",
        "\n",
        "                              Year\tValue\n",
        "\tVacant Housing Units\t  -----   -----\n",
        "\tOccupied Housing Units\t-----   -----\n",
        "\n",
        "(4) (10 pts) Calculate the harmonic mean of the total housing units and print it out. You can find the information about harmonic mean here: https://ncalculators.com/statistics/harmonic-mean-calculator.htm"
      ]
    },
    {
      "cell_type": "code",
      "execution_count": 19,
      "metadata": {
        "id": "rM8A5oIYxtW6"
      },
      "outputs": [],
      "source": []
    },
    {
      "cell_type": "code",
      "execution_count": 2,
      "metadata": {
        "id": "lqGYuHBhcsRH",
        "colab": {
          "base_uri": "https://localhost:8080/"
        },
        "outputId": "3771c7df-0c1d-4b77-f5eb-fc137998880e"
      },
      "outputs": [
        {
          "output_type": "stream",
          "name": "stdout",
          "text": [
            "(1) Difference in Occupied Housing Units from Year to Year (Ascending Order):\n",
            "\n",
            "    Year  Difference\n",
            "20  2008     32228.0\n",
            "17  2009     32333.0\n",
            "14  2010     37372.0\n",
            "11  2011     36491.0\n",
            "8   2012     39095.0\n",
            "5   2013     39458.0\n",
            "2   2014     43481.0\n",
            "\n",
            "(2) Percentage of Housing Units (Vacant and Occupied) for All Years:\n",
            "\n",
            "      Vacant Housing Units  Occupied Housing Units\n",
            "Year                                              \n",
            "2014                  5.73                   94.27\n",
            "2013                  8.80                   91.20\n",
            "2012                  6.68                   93.32\n",
            "2011                  9.38                   90.62\n",
            "2010                  8.14                   91.86\n",
            "2009                  9.07                   90.93\n",
            "2008                 10.88                   89.12\n",
            "\n",
            "(3) Years and Values with the Highest Number of Housing Units (Vacant and Occupied):\n",
            "\n",
            "Vacant Housing Units: Year 2008, Value 4483\n",
            "Occupied Housing Units: Year 2014, Value 46295\n",
            "\n",
            "(4) Harmonic Mean of Total Housing Units:\n",
            "\n",
            "44398.29\n"
          ]
        }
      ],
      "source": [
        "import pandas as pd\n",
        "\n",
        "\n",
        "# Load the CSV file into a Pandas DataFrame\n",
        "df = pd.read_csv(\"/content/Assignment1_denton_housing.csv\")\n",
        "\n",
        "# (1) Calculate the difference in the number of Occupied Housing Units from year to year and print it.\n",
        "# get the differences using pandas diff() function,\n",
        "# and perform data frame compares using necessary conditions\n",
        "\n",
        "df['Year'] = df['year'].astype(str)\n",
        "df['Difference'] = df['value'].diff()\n",
        "difference_df = df[df['title_field'] == 'Occupied Housing Units'][['Year', 'Difference']]\n",
        "difference_df = difference_df.sort_values(by='Year')\n",
        "print(\"(1) Difference in Occupied Housing Units from Year to Year (Ascending Order):\\n\")\n",
        "print(difference_df)\n",
        "\n",
        "# (2) Calculate the percentage of housing units which are vacant and occupied for all years.\n",
        "total_housing_units = df[df['title_field'] == 'Total Housing Units'][['Year', 'value']].set_index('Year')\n",
        "vacant_housing_units = df[df['title_field'] == 'Vacant Housing Units'][['Year', 'value']].set_index('Year')\n",
        "occupied_housing_units = df[df['title_field'] == 'Occupied Housing Units'][['Year', 'value']].set_index('Year')\n",
        "\n",
        "# Calculating the percentages\n",
        "percentages = (vacant_housing_units / total_housing_units * 100).round(2)\n",
        "percentages.columns = ['Vacant Housing Units']\n",
        "percentages['Occupied Housing Units'] = 100 - percentages['Vacant Housing Units']\n",
        "\n",
        "print(\"\\n(2) Percentage of Housing Units (Vacant and Occupied) for All Years:\\n\")\n",
        "print(percentages)\n",
        "\n",
        "# (3) Calculate the years and values in which the highest number of housing units were vacant and occupied.\n",
        "max_vacant = vacant_housing_units.idxmax()[0]\n",
        "max_vacant_value = vacant_housing_units.max()[0]\n",
        "max_occupied = occupied_housing_units.idxmax()[0]\n",
        "max_occupied_value = occupied_housing_units.max()[0]\n",
        "\n",
        "print(\"\\n(3) Years and Values with the Highest Number of Housing Units (Vacant and Occupied):\\n\")\n",
        "print(f\"Vacant Housing Units: Year {max_vacant}, Value {max_vacant_value}\")\n",
        "print(f\"Occupied Housing Units: Year {max_occupied}, Value {max_occupied_value}\")\n",
        "\n",
        "# (4) Calculate the harmonic mean of the total housing units and print it out.\n",
        "# by ref to above linked website and performing below calculations\n",
        "total_housing_units_list = df[df['title_field'] == 'Total Housing Units']['value'].tolist()\n",
        "harmonic_mean = len(total_housing_units_list) / sum(1 / x for x in total_housing_units_list)\n",
        "print(\"\\n(4) Harmonic Mean of Total Housing Units:\\n\")\n",
        "print(f\"{harmonic_mean:.2f}\")\n",
        "\n"
      ]
    },
    {
      "cell_type": "code",
      "execution_count": null,
      "metadata": {
        "id": "Ccmn3oGWxtW7"
      },
      "outputs": [],
      "source": []
    }
  ],
  "metadata": {
    "colab": {
      "provenance": [],
      "include_colab_link": true
    },
    "kernelspec": {
      "display_name": "Python 3 (ipykernel)",
      "language": "python",
      "name": "python3"
    },
    "language_info": {
      "codemirror_mode": {
        "name": "ipython",
        "version": 3
      },
      "file_extension": ".py",
      "mimetype": "text/x-python",
      "name": "python",
      "nbconvert_exporter": "python",
      "pygments_lexer": "ipython3",
      "version": "3.11.1"
    }
  },
  "nbformat": 4,
  "nbformat_minor": 0
}